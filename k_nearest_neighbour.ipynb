{
 "cells": [
  {
   "cell_type": "markdown",
   "metadata": {},
   "source": [
    "## k-nearest-neighbor algorithm in plain Python\n",
    "\n",
    "The k-nn algorithm is a simple **supervised** machine learning algorithm that can be used both for classification and regression. It's an **instance-based** algorithm. So instead of estimating a model, it stores all training examples in memory and makes predictions using a similarity measure. \n",
    "\n",
    "But it requires a large amount of memory, which depends directly on the number of instances. And it needs to be compared with known instances when predicting, so the running time will be relatively longer.\n",
    "\n",
    "Given an input example, the k-nn algorithm retrieves the k most similar instances from memory. Similarity is defined in terms of distance, that is, the training examples with the smallest (Euclidean, Manhattan, ect.) distance to the input example are considered to be most similar.\n",
    "\n",
    "The target value of the input example is computed as follows:  \n",
    "  \n",
    "Classification:  \n",
    "a) unweighted: output the most common classification among the k-nearest neighbors  \n",
    "b) weighted: sum up the weights of the k-nearest neighbors for each classification value, output classification with highest weight  \n",
    "  \n",
    "Regression:  \n",
    "a) unweighted: output the average of the values of the k-nearest neighbors  \n",
    "b) weighted: for all classification values,  sum up classification value$*$weight and divide the result trough the sum of all weights  \n",
    "\n",
    "The weighted k-nn version is a refined version of the algorithm in which the contribution of each neighbor is *weighted* according to its distance to the query point. Below, we implement the basic unweighted version of the k-nn algorithm for the digits dataset from sklearn."
   ]
  },
  {
   "cell_type": "markdown",
   "metadata": {},
   "source": [
    "# Example 3.1 in Lihang's book"
   ]
  },
  {
   "cell_type": "code",
   "execution_count": 2,
   "metadata": {},
   "outputs": [],
   "source": [
    "import numpy as np"
   ]
  },
  {
   "cell_type": "code",
   "execution_count": 3,
   "metadata": {},
   "outputs": [],
   "source": [
    "x1 = np.array([1,1], dtype = np.float32)\n",
    "x2 = np.array([5,1], dtype = np.float32)\n",
    "x3 = np.array([4,4], dtype = np.float32)"
   ]
  },
  {
   "cell_type": "code",
   "execution_count": 4,
   "metadata": {},
   "outputs": [],
   "source": [
    "# distance between x and y, default is Euclidean distance\n",
    "def Dist(x, y, p = 2):\n",
    "    dist = np.linalg.norm(x - y, p)\n",
    "    return dist"
   ]
  },
  {
   "cell_type": "code",
   "execution_count": 5,
   "metadata": {},
   "outputs": [
    {
     "name": "stdout",
     "output_type": "stream",
     "text": [
      "L1(x1, x2) = 4.0\n",
      "L2(x1, x2) = 4.0\n",
      "L3(x1, x2) = 4.0\n",
      "L4(x1, x2) = 4.0\n"
     ]
    }
   ],
   "source": [
    "for i in range(1, 5):\n",
    "    dist_x1_x2 = Dist(x1, x2, p = i)\n",
    "    print('L{}(x1, x2) = {:.3}'.format(i, dist_x1_x2))"
   ]
  },
  {
   "cell_type": "code",
   "execution_count": 6,
   "metadata": {},
   "outputs": [
    {
     "name": "stdout",
     "output_type": "stream",
     "text": [
      "L1(x1, x3) = 6.0\n",
      "L2(x1, x3) = 4.24\n",
      "L3(x1, x3) = 3.78\n",
      "L4(x1, x3) = 3.57\n"
     ]
    }
   ],
   "source": [
    "for i in range(1, 5):\n",
    "    dist_x1_x3 = Dist(x1, x3, p =i)\n",
    "    print('L{}(x1, x3) = {:.3}'.format(i, dist_x1_x3))"
   ]
  },
  {
   "cell_type": "markdown",
   "metadata": {},
   "source": [
    "Example 3.1 illustrates that the vector $\\boldsymbol x_2$ or the vector $\\boldsymbol x_3$ is closest to the vector $\\boldsymbol x_1$ if $p <= 2$ or $p >= 3$ respectively.   "
   ]
  },
  {
   "cell_type": "markdown",
   "metadata": {},
   "source": [
    "# KNN Algorithm"
   ]
  },
  {
   "cell_type": "code",
   "execution_count": 68,
   "metadata": {
    "ExecuteTime": {
     "end_time": "2018-03-26T14:32:41.915819Z",
     "start_time": "2018-03-26T14:32:41.094749Z"
    }
   },
   "outputs": [],
   "source": [
    "import numpy as np\n",
    "import matplotlib.pyplot as plt\n",
    "from sklearn.datasets import load_digits\n",
    "from sklearn.model_selection import train_test_split\n",
    "np.random.seed(123)"
   ]
  },
  {
   "cell_type": "markdown",
   "metadata": {},
   "source": [
    "## Dataset"
   ]
  },
  {
   "cell_type": "code",
   "execution_count": 69,
   "metadata": {
    "ExecuteTime": {
     "end_time": "2018-03-26T14:33:11.784085Z",
     "start_time": "2018-03-26T14:33:10.849626Z"
    }
   },
   "outputs": [
    {
     "name": "stdout",
     "output_type": "stream",
     "text": [
      "X_train shape: (1347, 64)\n",
      "y_train shape: (1347,)\n",
      "X_test shape: (450, 64)\n",
      "y_test shape: (450,)\n"
     ]
    },
    {
     "data": {
      "image/png": "[encoded data removed]",
      "text/plain": [
       "<Figure size 720x576 with 10 Axes>"
      ]
     },
     "metadata": {
      "needs_background": "light"
     },
     "output_type": "display_data"
    }
   ],
   "source": [
    "# We will use the digits dataset as an example. It consists of the 1797 images of hand-written digits. Each digit is\n",
    "# represented by a 64-dimensional vector of pixel values.\n",
    "\n",
    "digits = load_digits()\n",
    "X, y = digits.data, digits.target\n",
    "\n",
    "X_train, X_test, y_train, y_test = train_test_split(X, y)\n",
    "print(f'X_train shape: {X_train.shape}')\n",
    "print(f'y_train shape: {y_train.shape}')\n",
    "print(f'X_test shape: {X_test.shape}')\n",
    "print(f'y_test shape: {y_test.shape}')\n",
    "\n",
    "# Example digits\n",
    "fig = plt.figure(figsize=(10,8))\n",
    "for i in range(10):\n",
    "    ax = fig.add_subplot(2, 5, i+1)\n",
    "    plt.imshow(X[i].reshape((8,8)), cmap='gray')\n",
    "    \n",
    "plt.show()"
   ]
  },
  {
   "cell_type": "markdown",
   "metadata": {},
   "source": [
    "## k-nearest-neighbor class"
   ]
  },
  {
   "cell_type": "code",
   "execution_count": 70,
   "metadata": {
    "ExecuteTime": {
     "end_time": "2018-03-26T14:33:23.932644Z",
     "start_time": "2018-03-26T14:33:23.803735Z"
    }
   },
   "outputs": [],
   "source": [
    "class kNN():\n",
    "    def __init__(self):\n",
    "        pass\n",
    "\n",
    "    def fit(self, X, y):\n",
    "        self.data = X\n",
    "        self.targets = y\n",
    "\n",
    "    def euclidean_distance(self, X):\n",
    "        \"\"\"\n",
    "        Computes the euclidean distance between the training data and\n",
    "        a new input example or matrix of input examples X\n",
    "        \"\"\"\n",
    "        # input: single data point\n",
    "        if X.ndim == 1:\n",
    "            l2 = np.sqrt(np.sum((self.data - X)**2, axis=1))\n",
    "\n",
    "        # input: matrix of data points\n",
    "        if X.ndim == 2:\n",
    "            n_samples, _ = X.shape\n",
    "            l2 = [np.sqrt(np.sum((self.data - X[i])**2, axis=1)) for i in range(n_samples)]\n",
    "\n",
    "        return np.array(l2)\n",
    "\n",
    "    def predict(self, X, k=1):\n",
    "        \"\"\"\n",
    "        Predicts the classification for an input example or matrix of input examples X\n",
    "        \"\"\"\n",
    "        # step 1: compute distance between input and training data\n",
    "        dists = self.euclidean_distance(X)\n",
    "\n",
    "        # step 2: find the k nearest neighbors and their classifications\n",
    "        if X.ndim == 1:\n",
    "            if k == 1:\n",
    "                nn = np.argmin(dists)\n",
    "                return self.targets[nn]\n",
    "            else:\n",
    "                knn = np.argsort(dists)[:k]\n",
    "                y_knn = self.targets[knn]\n",
    "                max_vote = max(y_knn, key=list(y_knn).count)\n",
    "                return max_vote\n",
    "\n",
    "        if X.ndim == 2:\n",
    "            knn = np.argsort(dists)[:, :k]\n",
    "            y_knn = self.targets[knn]\n",
    "            if k == 1:\n",
    "                return y_knn.T\n",
    "            else:\n",
    "                n_samples, _ = X.shape\n",
    "                max_votes = [max(y_knn[i], key=list(y_knn[i]).count) for i in range(n_samples)]\n",
    "                return max_votes"
   ]
  },
  {
   "cell_type": "markdown",
   "metadata": {},
   "source": [
    "## Initializing and training the model"
   ]
  },
  {
   "cell_type": "code",
   "execution_count": 71,
   "metadata": {
    "ExecuteTime": {
     "end_time": "2018-03-26T14:33:34.324040Z",
     "start_time": "2018-03-26T14:33:34.282266Z"
    }
   },
   "outputs": [
    {
     "name": "stdout",
     "output_type": "stream",
     "text": [
      "Testing one datapoint, k=1\n",
      "Predicted label: 3\n",
      "True label: 3\n",
      "\n",
      "Testing one datapoint, k=5\n",
      "Predicted label: 9\n",
      "True label: 9\n",
      "\n",
      "Testing 10 datapoint, k=1\n",
      "Predicted labels: [[3 1 0 7 4 0 0 5 1 6]]\n",
      "True labels: [3 1 0 7 4 0 0 5 1 6]\n",
      "\n",
      "Testing 10 datapoint, k=4\n",
      "Predicted labels: [3, 1, 0, 7, 4, 0, 0, 5, 1, 6]\n",
      "True labels: [3 1 0 7 4 0 0 5 1 6]\n",
      "\n"
     ]
    }
   ],
   "source": [
    "knn = kNN()\n",
    "knn.fit(X_train, y_train)\n",
    "\n",
    "print(\"Testing one datapoint, k=1\")\n",
    "print(f\"Predicted label: {knn.predict(X_test[0], k=1)}\")\n",
    "print(f\"True label: {y_test[0]}\")\n",
    "print()\n",
    "print(\"Testing one datapoint, k=5\")\n",
    "print(f\"Predicted label: {knn.predict(X_test[20], k=5)}\")\n",
    "print(f\"True label: {y_test[20]}\")\n",
    "print()\n",
    "print(\"Testing 10 datapoint, k=1\")\n",
    "print(f\"Predicted labels: {knn.predict(X_test[5:15], k=1)}\")\n",
    "print(f\"True labels: {y_test[5:15]}\")\n",
    "print()\n",
    "print(\"Testing 10 datapoint, k=4\")\n",
    "print(f\"Predicted labels: {knn.predict(X_test[5:15], k=4)}\")\n",
    "print(f\"True labels: {y_test[5:15]}\")\n",
    "print()"
   ]
  },
  {
   "cell_type": "markdown",
   "metadata": {},
   "source": [
    "## Accuracy on test set"
   ]
  },
  {
   "cell_type": "code",
   "execution_count": 87,
   "metadata": {
    "ExecuteTime": {
     "end_time": "2018-03-26T14:33:36.781872Z",
     "start_time": "2018-03-26T14:33:36.495726Z"
    }
   },
   "outputs": [
    {
     "name": "stdout",
     "output_type": "stream",
     "text": [
      "Test accuracy with k = 1: 97.77777777777777\n",
      "Test accuracy with k = 5: 97.55555555555556\n"
     ]
    }
   ],
   "source": [
    "# Compute accuracy on test set\n",
    "y_p_test1 = knn.predict(X_test, k=1)\n",
    "test_acc1= np.sum(y_p_test1[0] == y_test)/len(y_p_test1[0]) * 100\n",
    "print(f\"Test accuracy with k = 1: {format(test_acc1)}\")\n",
    "\n",
    "y_p_test5 = knn.predict(X_test, k=5)\n",
    "test_acc5= np.sum(y_p_test5 == y_test)/len(y_p_test5) * 100\n",
    "print(f\"Test accuracy with k = 5: {format(test_acc5)}\")"
   ]
  },
  {
   "cell_type": "code",
   "execution_count": null,
   "metadata": {},
   "outputs": [],
   "source": []
  }
 ],
 "metadata": {
  "anaconda-cloud": {},
  "kernelspec": {
   "display_name": "Python 3",
   "language": "python",
   "name": "python3"
  },
  "language_info": {
   "codemirror_mode": {
    "name": "ipython",
    "version": 3
   },
   "file_extension": ".py",
   "mimetype": "text/x-python",
   "name": "python",
   "nbconvert_exporter": "python",
   "pygments_lexer": "ipython3",
   "version": "3.7.3"
  },
  "toc": {
   "nav_menu": {},
   "number_sections": true,
   "sideBar": true,
   "skip_h1_title": false,
   "title_cell": "Table of Contents",
   "title_sidebar": "Contents",
   "toc_cell": false,
   "toc_position": {},
   "toc_section_display": true,
   "toc_window_display": false
  }
 },
 "nbformat": 4,
 "nbformat_minor": 2
}
