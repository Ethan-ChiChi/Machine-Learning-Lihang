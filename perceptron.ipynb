{
 "cells": [
  {
   "cell_type": "markdown",
   "metadata": {},
   "source": [
    "## Perceptron algorithm \n",
    "\n",
    "The perceptron is a simple supervised machine learning algorithm and one of the earliest **neural network** architectures. It was introduced by Rosenblatt in the late 1950s, and was made a series of theoretical studies by Novikoff, Minsky and Papert. A perceptron represents a **binary linear classifier** that maps a set of training examples (of $n$ dimensional input vectors) onto binary values using a $n-1$ dimensional hyperplane.\n",
    "\n",
    "The perceptron as follows.\n",
    "\n",
    "**Given:** \n",
    "- dataset $\\{(\\boldsymbol{x}^{(1)}, y^{(1)}), ..., (\\boldsymbol{x}^{(m)}, y^{(m)})\\}$\n",
    "- with $\\boldsymbol{x}^{(i)}$ being a $n-$dimensional vector $\\boldsymbol x^{(i)} = (x^{(i)}_1, ..., x^{(i)}_n)$\n",
    "- $y^{(i)}$ being a binary target variable, $y^{(i)} \\in \\{-1,1\\}$\n",
    "\n",
    "The perceptron is a very simple neural network:\n",
    "- it has a loss function \n",
    "$$L(\\boldsymbol{w}, b) = - \\sum_{\\boldsymbol{x^{(i)}} \\in M} (y^{(i)}(\\boldsymbol{w} \\cdot \\boldsymbol{x^{(i)}} + b))$$\n",
    "  where $M$ represents a set of misclassification point and $\\cdot$ denotes the dot product\n",
    "- it has a real-valued weight vector $\\boldsymbol{w}= (w^{(1)}, ..., w^{(n)})$\n",
    "- it has a real-valued bias $b$\n",
    "- it uses the Heaviside step function as its activation function\n",
    "\n",
    "* * *\n",
    "A perceptron is to find the parameters $\\boldsymbol{w}$ and $b$ to solve the minimization of the loss function: \n",
    "$$\\min_{\\boldsymbol{w},b}L(\\boldsymbol{w}, b) = - \\sum_{\\boldsymbol{x^{(i)}} \\in M} (y^{(i)}(\\boldsymbol{w} \\cdot \\boldsymbol{x^{(i )}} + b))$$\n",
    "It trained using **stochastic gradient descent**:\n",
    "$$\\nabla_{\\boldsymbol {w}} L(\\boldsymbol{w}, b) =  - \\sum_{\\boldsymbol{x^{(i)}} \\in M} (y^{(i)} \\boldsymbol{x^{(i )}})$$\n",
    "\n",
    "$$\\nabla_{b} L(\\boldsymbol{w}, b) =  - \\sum_{\\boldsymbol{x^{(i)}} \\in M} y^{(i)}$$\n",
    "The training algorithm has different steps. In the beginning (step 0) the model parameters are initialized. The other steps (see below) are repeated for a specified number of training iterations or until the parameters have converged.\n",
    "\n",
    "**Input: $\\{(\\boldsymbol{x}^{(1)}, y^{(1)}), ..., (\\boldsymbol{x}^{(m)}, y^{(m)})\\}$; learning rate $\\eta  (0 < \\eta \\leq 1)$\n",
    "\n",
    "**Output: $\\boldsymbol{w}$, $b$; Perceptron Model $f(\\boldsymbol{x}) = sign(\\boldsymbol{w} \\cdot \\boldsymbol{x} + b)$\n",
    "\n",
    "**Step 0: ** Initialize the weight vector and bias with zeros (or small random values).\n",
    "* * *\n",
    "\n",
    "**Step 1: **Select $(\\boldsymbol{x}^{(i)}, y^{(i)})$  randomly from the dataset.\n",
    "* * *\n",
    "\n",
    "**Step 2: ** If $y_i(\\boldsymbol{w} \\cdot \\boldsymbol{x_i} + b) \\le 0 $, update the weights and bias.\n",
    "\n",
    "$$\\boldsymbol{w} \\gets \\boldsymbol{w} + \\eta y^{(i)}\\boldsymbol{x^{(i)}}$$\n",
    "\n",
    "$$b \\gets b  + \\eta y^{(i)}$$\n",
    "where $\\eta  (0 < \\eta \\leq 1)$ is the learning rate.\n",
    "***\n",
    "\n",
    "**Step 3: ** Goto Step 2, until there is none misclassfication data in the dataset."
   ]
  },
  {
   "cell_type": "code",
   "execution_count": 1,
   "metadata": {
    "ExecuteTime": {
     "end_time": "2018-03-11T14:19:10.378213Z",
     "start_time": "2018-03-11T14:19:09.797615Z"
    }
   },
   "outputs": [],
   "source": [
    "import numpy as np\n",
    "import pandas as pd\n",
    "import matplotlib.pyplot as plt\n",
    "from sklearn.datasets import load_iris"
   ]
  },
  {
   "cell_type": "markdown",
   "metadata": {},
   "source": [
    "## Dataset"
   ]
  },
  {
   "cell_type": "code",
   "execution_count": 2,
   "metadata": {
    "ExecuteTime": {
     "end_time": "2018-03-11T14:19:11.134727Z",
     "start_time": "2018-03-11T14:19:10.768744Z"
    }
   },
   "outputs": [
    {
     "data": {
      "text/plain": [
       "<matplotlib.legend.Legend at 0x2c28f1905c0>"
      ]
     },
     "execution_count": 2,
     "metadata": {},
     "output_type": "execute_result"
    },
    {
     "data": {
      "image/png": "[encoded data removed]",
      "text/plain": [
       "<Figure size 432x288 with 1 Axes>"
      ]
     },
     "metadata": {
      "needs_background": "light"
     },
     "output_type": "display_data"
    }
   ],
   "source": [
    "iris = load_iris()\n",
    "\n",
    "#X is data, y is label#\n",
    "X = iris.data[:100,:2]\n",
    "y = iris.target[:100]\n",
    "y = np.array([1 if i ==1 else -1 for i in y])\n",
    "\n",
    "plt.plot(X[:50,0], X[:50,1], 'bo', color = 'blue', label = '-1')\n",
    "plt.plot(X[50:100,0], X[50:100,1], 'bo', color = 'orange', label = '1')\n",
    "plt.title(\"Dataset\")\n",
    "plt.xlabel(\"Sepal length\")\n",
    "plt.ylabel(\"Sepal width\")\n",
    "plt.legend()"
   ]
  },
  {
   "cell_type": "code",
   "execution_count": 3,
   "metadata": {
    "ExecuteTime": {
     "end_time": "2018-03-11T14:19:15.540354Z",
     "start_time": "2018-03-11T14:19:15.521985Z"
    }
   },
   "outputs": [
    {
     "name": "stdout",
     "output_type": "stream",
     "text": [
      "Shape X: (100, 2)\n",
      "Shape y: (100,)\n"
     ]
    }
   ],
   "source": [
    "print(f'Shape X: {X.shape}')\n",
    "print(f'Shape y: {y.shape}')"
   ]
  },
  {
   "cell_type": "markdown",
   "metadata": {},
   "source": [
    "## Perceptron model class"
   ]
  },
  {
   "cell_type": "code",
   "execution_count": 4,
   "metadata": {
    "ExecuteTime": {
     "end_time": "2018-03-11T14:20:42.352899Z",
     "start_time": "2018-03-11T14:20:42.297906Z"
    }
   },
   "outputs": [],
   "source": [
    "class Perceptron():\n",
    "\n",
    "    def __init__(self):\n",
    "        \n",
    "        #Step 0: Initialize the paramaters\n",
    "        self.w = np.zeros(len(X[0]), dtype = np.float32)\n",
    "        self.b = 0\n",
    "        self.learning_rate = 0.1\n",
    "        \n",
    "    def sign(self, x, w, b):\n",
    "        y = np.dot(x, w) + b    #Identify misclassification data\n",
    "        return y\n",
    "    \n",
    "    def fit(self, X_train, y_train):\n",
    "        is_wrong = False\n",
    "        while not is_wrong:\n",
    "            wrong_count = 0\n",
    "            for d in range(len(X_train)):\n",
    "                #Step 2: Select the data fron dataset\n",
    "                X = X_train[d]\n",
    "                y = y_train[d]\n",
    "                #Step 3: Stochastic gradient descent\n",
    "                if y * self.sign(X, self.w, self.b) <= 0:\n",
    "                    self.w = self.w + self.learning_rate * np.dot(y, X)\n",
    "                    self.b = self.b + self.learning_rate * y\n",
    "                    wrong_count += 1\n",
    "            if wrong_count == 0:\n",
    "                is_wrong = True\n",
    "        return 'Peceptron Model!'"
   ]
  },
  {
   "cell_type": "markdown",
   "metadata": {
    "ExecuteTime": {
     "end_time": "2018-03-09T14:34:26.829303Z",
     "start_time": "2018-03-09T14:34:26.824652Z"
    }
   },
   "source": [
    "## Initialization and training the model"
   ]
  },
  {
   "cell_type": "code",
   "execution_count": 5,
   "metadata": {
    "ExecuteTime": {
     "end_time": "2018-03-11T14:20:44.931917Z",
     "start_time": "2018-03-11T14:20:44.435152Z"
    }
   },
   "outputs": [
    {
     "data": {
      "text/plain": [
       "'Peceptron Model!'"
      ]
     },
     "execution_count": 5,
     "metadata": {},
     "output_type": "execute_result"
    }
   ],
   "source": [
    "p = Perceptron()\n",
    "p.fit(X, y)"
   ]
  },
  {
   "cell_type": "markdown",
   "metadata": {},
   "source": [
    "## Perceptron model function"
   ]
  },
  {
   "cell_type": "code",
   "execution_count": 6,
   "metadata": {
    "ExecuteTime": {
     "end_time": "2018-03-11T14:21:17.074704Z",
     "start_time": "2018-03-11T14:21:17.064633Z"
    }
   },
   "outputs": [],
   "source": [
    "sepal_length = np.linspace(4, 7, 10)\n",
    "sepal_width = -(p.w[0] * sepal_length + p.b) / p.w[1]"
   ]
  },
  {
   "cell_type": "markdown",
   "metadata": {
    "ExecuteTime": {
     "end_time": "2018-03-09T14:35:14.630757Z",
     "start_time": "2018-03-09T14:35:14.626460Z"
    }
   },
   "source": [
    "## Visualize decision boundary"
   ]
  },
  {
   "cell_type": "code",
   "execution_count": 7,
   "metadata": {
    "ExecuteTime": {
     "end_time": "2018-03-11T14:21:45.003755Z",
     "start_time": "2018-03-11T14:21:44.975880Z"
    }
   },
   "outputs": [
    {
     "data": {
      "text/plain": [
       "<matplotlib.legend.Legend at 0x2c28f271390>"
      ]
     },
     "execution_count": 7,
     "metadata": {},
     "output_type": "execute_result"
    },
    {
     "data": {
      "image/png": "[encoded data removed]",
      "text/plain": [
       "<Figure size 432x288 with 1 Axes>"
      ]
     },
     "metadata": {
      "needs_background": "light"
     },
     "output_type": "display_data"
    }
   ],
   "source": [
    "plt.plot(sepal_length, sepal_width)\n",
    "plt.plot(X[:50,0], X[:50,1], 'bo', color = 'blue', label = '-1')\n",
    "plt.plot(X[50:100,0], X[50:100,1], 'bo', color = 'orange', label = '1')\n",
    "plt.title(\"Dataset\")\n",
    "plt.xlabel(\"Sepal length\")\n",
    "plt.ylabel(\"Sepal width\")\n",
    "plt.legend()"
   ]
  },
  {
   "cell_type": "markdown",
   "metadata": {},
   "source": [
    "# Scikit-learn Perceptron()"
   ]
  },
  {
   "cell_type": "code",
   "execution_count": 8,
   "metadata": {},
   "outputs": [],
   "source": [
    "from sklearn.linear_model import Perceptron"
   ]
  },
  {
   "cell_type": "code",
   "execution_count": 9,
   "metadata": {},
   "outputs": [
    {
     "data": {
      "text/plain": [
       "Perceptron(alpha=0.0001, class_weight=None, early_stopping=False, eta0=1.0,\n",
       "           fit_intercept=False, max_iter=1000, n_iter_no_change=5, n_jobs=None,\n",
       "           penalty=None, random_state=0, shuffle=False, tol=None,\n",
       "           validation_fraction=0.1, verbose=0, warm_start=False)"
      ]
     },
     "execution_count": 9,
     "metadata": {},
     "output_type": "execute_result"
    }
   ],
   "source": [
    "clf = Perceptron(fit_intercept=False, max_iter = 1000, shuffle = False, tol = None)\n",
    "clf.fit(X,y)"
   ]
  },
  {
   "cell_type": "code",
   "execution_count": 10,
   "metadata": {},
   "outputs": [
    {
     "name": "stdout",
     "output_type": "stream",
     "text": [
      "[[  74.6 -127.2]]\n",
      "[0.]\n"
     ]
    }
   ],
   "source": [
    "print(clf.coef_) # Weights assigned to the features\n",
    "print(clf.intercept_) # Constants in decision function."
   ]
  },
  {
   "cell_type": "code",
   "execution_count": 11,
   "metadata": {},
   "outputs": [
    {
     "data": {
      "text/plain": [
       "[<matplotlib.lines.Line2D at 0x2c28f4e8630>]"
      ]
     },
     "execution_count": 11,
     "metadata": {},
     "output_type": "execute_result"
    },
    {
     "data": {
      "image/png": "[encoded data removed]",
      "text/plain": [
       "<Figure size 432x288 with 1 Axes>"
      ]
     },
     "metadata": {
      "needs_background": "light"
     },
     "output_type": "display_data"
    }
   ],
   "source": [
    "x_points = np.linspace(4, 7, 10)\n",
    "plt.plot(X[:50,0], X[:50,1], 'bo', color = 'blue', label = '-1')\n",
    "plt.plot(X[50:100,0], X[50:100,1], 'bo', color = 'orange', label = '1')\n",
    "plt.title(\"Dataset\")\n",
    "plt.xlabel(\"Sepal length\")\n",
    "plt.ylabel(\"Sepal width\")\n",
    "plt.legend()\n",
    "\n",
    "y_ = -(clf.coef_[0][0] * x_points + clf.intercept_) / clf.coef_[0][1]\n",
    "plt.plot(x_points,y_)"
   ]
  }
 ],
 "metadata": {
  "anaconda-cloud": {},
  "kernelspec": {
   "display_name": "Python 3",
   "language": "python",
   "name": "python3"
  },
  "language_info": {
   "codemirror_mode": {
    "name": "ipython",
    "version": 3
   },
   "file_extension": ".py",
   "mimetype": "text/x-python",
   "name": "python",
   "nbconvert_exporter": "python",
   "pygments_lexer": "ipython3",
   "version": "3.7.3"
  },
  "toc": {
   "nav_menu": {},
   "number_sections": true,
   "sideBar": true,
   "skip_h1_title": false,
   "title_cell": "Table of Contents",
   "title_sidebar": "Contents",
   "toc_cell": false,
   "toc_position": {},
   "toc_section_display": true,
   "toc_window_display": false
  }
 },
 "nbformat": 4,
 "nbformat_minor": 2
}
