{
 "cells": [
  {
   "cell_type": "code",
   "execution_count": 1,
   "metadata": {},
   "outputs": [],
   "source": [
    "#from sklearn.model_selection import train_test_split\n",
    "#from sklearn.datasets import load_iris\n",
    "#from sklearn.naive_bayes import GaussianNB"
   ]
  },
  {
   "cell_type": "code",
   "execution_count": 2,
   "metadata": {},
   "outputs": [],
   "source": [
    "#iris = load_iris()"
   ]
  },
  {
   "cell_type": "code",
   "execution_count": 3,
   "metadata": {},
   "outputs": [],
   "source": [
    "#X_train, X_test, y_train, y_test = train_test_split(iris.data, iris.target, test_size=0.2, random_state=0)"
   ]
  },
  {
   "cell_type": "code",
   "execution_count": 4,
   "metadata": {},
   "outputs": [],
   "source": [
    "#clf = GaussianNB()"
   ]
  },
  {
   "cell_type": "code",
   "execution_count": 5,
   "metadata": {},
   "outputs": [],
   "source": [
    "#clf.fit(X_train, y_train)"
   ]
  },
  {
   "cell_type": "code",
   "execution_count": 6,
   "metadata": {},
   "outputs": [],
   "source": [
    "#clf.score(X_test, y_test)"
   ]
  },
  {
   "cell_type": "markdown",
   "metadata": {},
   "source": [
    "# Dataset: MINIST"
   ]
  },
  {
   "cell_type": "code",
   "execution_count": 7,
   "metadata": {},
   "outputs": [],
   "source": [
    "import pandas as pd\n",
    "import numpy as np\n",
    "#import matplotlib as plt"
   ]
  },
  {
   "cell_type": "markdown",
   "metadata": {},
   "source": [
    "Data processing"
   ]
  },
  {
   "cell_type": "code",
   "execution_count": 8,
   "metadata": {},
   "outputs": [],
   "source": [
    "train_set = pd.read_csv(\"./data/MNIST/mnist_train.csv\", delimiter = ',', header=None).values"
   ]
  },
  {
   "cell_type": "code",
   "execution_count": 9,
   "metadata": {},
   "outputs": [
    {
     "data": {
      "text/plain": [
       "array([[5, 0, 0, ..., 0, 0, 0],\n",
       "       [0, 0, 0, ..., 0, 0, 0],\n",
       "       [4, 0, 0, ..., 0, 0, 0],\n",
       "       ...,\n",
       "       [5, 0, 0, ..., 0, 0, 0],\n",
       "       [6, 0, 0, ..., 0, 0, 0],\n",
       "       [8, 0, 0, ..., 0, 0, 0]], dtype=int64)"
      ]
     },
     "execution_count": 9,
     "metadata": {},
     "output_type": "execute_result"
    }
   ],
   "source": [
    "train_set"
   ]
  },
  {
   "cell_type": "code",
   "execution_count": 10,
   "metadata": {},
   "outputs": [
    {
     "data": {
      "text/plain": [
       "(60000, 785)"
      ]
     },
     "execution_count": 10,
     "metadata": {},
     "output_type": "execute_result"
    }
   ],
   "source": [
    "train_set.shape"
   ]
  },
  {
   "cell_type": "code",
   "execution_count": 11,
   "metadata": {},
   "outputs": [],
   "source": [
    "train_data = train_set[:, 1:]"
   ]
  },
  {
   "cell_type": "code",
   "execution_count": 12,
   "metadata": {},
   "outputs": [
    {
     "data": {
      "text/plain": [
       "array([[0, 0, 0, ..., 0, 0, 0],\n",
       "       [0, 0, 0, ..., 0, 0, 0],\n",
       "       [0, 0, 0, ..., 0, 0, 0],\n",
       "       ...,\n",
       "       [0, 0, 0, ..., 0, 0, 0],\n",
       "       [0, 0, 0, ..., 0, 0, 0],\n",
       "       [0, 0, 0, ..., 0, 0, 0]], dtype=int64)"
      ]
     },
     "execution_count": 12,
     "metadata": {},
     "output_type": "execute_result"
    }
   ],
   "source": [
    "train_data"
   ]
  },
  {
   "cell_type": "code",
   "execution_count": 13,
   "metadata": {},
   "outputs": [
    {
     "data": {
      "text/plain": [
       "(60000, 784)"
      ]
     },
     "execution_count": 13,
     "metadata": {},
     "output_type": "execute_result"
    }
   ],
   "source": [
    "train_data.shape"
   ]
  },
  {
   "cell_type": "code",
   "execution_count": 14,
   "metadata": {},
   "outputs": [],
   "source": [
    "train_data[train_data > 128 ] = 1\n",
    "train_data[train_data <= 128 ] = 0"
   ]
  },
  {
   "cell_type": "code",
   "execution_count": 15,
   "metadata": {},
   "outputs": [
    {
     "data": {
      "text/plain": [
       "array([[0, 0, 0, ..., 0, 0, 0],\n",
       "       [0, 0, 0, ..., 0, 0, 0],\n",
       "       [0, 0, 0, ..., 0, 0, 0],\n",
       "       ...,\n",
       "       [0, 0, 0, ..., 0, 0, 0],\n",
       "       [0, 0, 0, ..., 0, 0, 0],\n",
       "       [0, 0, 0, ..., 0, 0, 0]], dtype=int64)"
      ]
     },
     "execution_count": 15,
     "metadata": {},
     "output_type": "execute_result"
    }
   ],
   "source": [
    "train_data"
   ]
  },
  {
   "cell_type": "code",
   "execution_count": 16,
   "metadata": {},
   "outputs": [],
   "source": [
    "train_label = train_set[:,0]"
   ]
  },
  {
   "cell_type": "code",
   "execution_count": 17,
   "metadata": {},
   "outputs": [
    {
     "data": {
      "text/plain": [
       "array([5, 0, 4, ..., 5, 6, 8], dtype=int64)"
      ]
     },
     "execution_count": 17,
     "metadata": {},
     "output_type": "execute_result"
    }
   ],
   "source": [
    "train_label"
   ]
  },
  {
   "cell_type": "code",
   "execution_count": 18,
   "metadata": {},
   "outputs": [
    {
     "data": {
      "text/plain": [
       "(60000,)"
      ]
     },
     "execution_count": 18,
     "metadata": {},
     "output_type": "execute_result"
    }
   ],
   "source": [
    "train_label.shape"
   ]
  },
  {
   "cell_type": "code",
   "execution_count": 19,
   "metadata": {},
   "outputs": [],
   "source": [
    "test_set = pd.read_csv(\"./data/MNIST/mnist_test.csv\", delimiter=',', header=None).values"
   ]
  },
  {
   "cell_type": "code",
   "execution_count": 20,
   "metadata": {},
   "outputs": [
    {
     "data": {
      "text/plain": [
       "(10000, 785)"
      ]
     },
     "execution_count": 20,
     "metadata": {},
     "output_type": "execute_result"
    }
   ],
   "source": [
    "test_set.shape"
   ]
  },
  {
   "cell_type": "code",
   "execution_count": 21,
   "metadata": {},
   "outputs": [],
   "source": [
    "test_data = test_set[:,1:] "
   ]
  },
  {
   "cell_type": "code",
   "execution_count": 22,
   "metadata": {},
   "outputs": [
    {
     "data": {
      "text/plain": [
       "(10000, 784)"
      ]
     },
     "execution_count": 22,
     "metadata": {},
     "output_type": "execute_result"
    }
   ],
   "source": [
    "test_data.shape"
   ]
  },
  {
   "cell_type": "code",
   "execution_count": 23,
   "metadata": {},
   "outputs": [
    {
     "data": {
      "text/plain": [
       "array([[0, 0, 0, ..., 0, 0, 0],\n",
       "       [0, 0, 0, ..., 0, 0, 0],\n",
       "       [0, 0, 0, ..., 0, 0, 0],\n",
       "       ...,\n",
       "       [0, 0, 0, ..., 0, 0, 0],\n",
       "       [0, 0, 0, ..., 0, 0, 0],\n",
       "       [0, 0, 0, ..., 0, 0, 0]], dtype=int64)"
      ]
     },
     "execution_count": 23,
     "metadata": {},
     "output_type": "execute_result"
    }
   ],
   "source": [
    "test_data"
   ]
  },
  {
   "cell_type": "code",
   "execution_count": 24,
   "metadata": {},
   "outputs": [],
   "source": [
    "test_label = test_data[:,0]"
   ]
  },
  {
   "cell_type": "code",
   "execution_count": 25,
   "metadata": {},
   "outputs": [
    {
     "data": {
      "text/plain": [
       "array([0, 0, 0, ..., 0, 0, 0], dtype=int64)"
      ]
     },
     "execution_count": 25,
     "metadata": {},
     "output_type": "execute_result"
    }
   ],
   "source": [
    "test_label"
   ]
  },
  {
   "cell_type": "code",
   "execution_count": 26,
   "metadata": {},
   "outputs": [
    {
     "data": {
      "text/plain": [
       "(10000,)"
      ]
     },
     "execution_count": 26,
     "metadata": {},
     "output_type": "execute_result"
    }
   ],
   "source": [
    "test_label.shape"
   ]
  },
  {
   "cell_type": "markdown",
   "metadata": {},
   "source": [
    "Caculating Prior probabilities using Bayesian Estimation"
   ]
  },
  {
   "cell_type": "code",
   "execution_count": 41,
   "metadata": {},
   "outputs": [],
   "source": [
    "class_num = 10\n",
    "image_feature_num = 784 # 28 * 28 pixel\n",
    "pr_y = np.zeros((class_num, 1)) # prior pr list\n",
    "lam = 1 # Laplace smoothing\n",
    "k = 10 # the number of class_num\n",
    "sj = 2"
   ]
  },
  {
   "cell_type": "code",
   "execution_count": 28,
   "metadata": {},
   "outputs": [
    {
     "data": {
      "text/plain": [
       "matrix([[ True, False, False, ...,  True, False, False]])"
      ]
     },
     "execution_count": 28,
     "metadata": {},
     "output_type": "execute_result"
    }
   ],
   "source": [
    "train_label_mat = np.mat(train_label)\n",
    "train_label_mat == 5"
   ]
  },
  {
   "cell_type": "code",
   "execution_count": 29,
   "metadata": {},
   "outputs": [
    {
     "data": {
      "text/plain": [
       "5421"
      ]
     },
     "execution_count": 29,
     "metadata": {},
     "output_type": "execute_result"
    }
   ],
   "source": [
    "np.sum(train_label_mat==5)"
   ]
  },
  {
   "cell_type": "code",
   "execution_count": 30,
   "metadata": {},
   "outputs": [],
   "source": [
    "# Prior probabilities\n",
    "for i in range (class_num):\n",
    "        pr_y[i] = (np.sum(np.mat(train_label)==i) + lam) / (len(train_label) + k * lam)    "
   ]
  },
  {
   "cell_type": "code",
   "execution_count": 31,
   "metadata": {},
   "outputs": [
    {
     "data": {
      "text/plain": [
       "array([[0.09871688],\n",
       "       [0.11236461],\n",
       "       [0.09930012],\n",
       "       [0.10218297],\n",
       "       [0.09736711],\n",
       "       [0.09035161],\n",
       "       [0.09863356],\n",
       "       [0.10441593],\n",
       "       [0.09751708],\n",
       "       [0.09915014]])"
      ]
     },
     "execution_count": 31,
     "metadata": {},
     "output_type": "execute_result"
    }
   ],
   "source": [
    "pr_y"
   ]
  },
  {
   "cell_type": "code",
   "execution_count": 32,
   "metadata": {},
   "outputs": [],
   "source": [
    "pr_y = np.log(pr_y)"
   ]
  },
  {
   "cell_type": "code",
   "execution_count": 33,
   "metadata": {},
   "outputs": [
    {
     "data": {
      "text/plain": [
       "array([[-2.31549932],\n",
       "       [-2.18600629],\n",
       "       [-2.30960853],\n",
       "       [-2.28099025],\n",
       "       [-2.32926685],\n",
       "       [-2.40404646],\n",
       "       [-2.3163437 ],\n",
       "       [-2.25937302],\n",
       "       [-2.32772773],\n",
       "       [-2.31112   ]])"
      ]
     },
     "execution_count": 33,
     "metadata": {},
     "output_type": "execute_result"
    }
   ],
   "source": [
    "pr_y"
   ]
  },
  {
   "cell_type": "markdown",
   "metadata": {},
   "source": [
    "Caculating conditional probabilities"
   ]
  },
  {
   "cell_type": "code",
   "execution_count": 34,
   "metadata": {},
   "outputs": [],
   "source": [
    "pr_x_y = np.zeros((class_num, image_feature_num, 2))"
   ]
  },
  {
   "cell_type": "code",
   "execution_count": 35,
   "metadata": {},
   "outputs": [
    {
     "data": {
      "text/plain": [
       "0.0"
      ]
     },
     "execution_count": 35,
     "metadata": {},
     "output_type": "execute_result"
    }
   ],
   "source": [
    "pr_x_y[0][0][1] "
   ]
  },
  {
   "cell_type": "code",
   "execution_count": 36,
   "metadata": {},
   "outputs": [],
   "source": [
    "for i in range(len(train_label)):\n",
    "    # get ith image pixel and label\n",
    "    label = train_label[i]\n",
    "    x = train_data[i]\n",
    "    for j in range(image_feature_num):\n",
    "        pr_x_y[label][j][x[j]] += 1"
   ]
  },
  {
   "cell_type": "code",
   "execution_count": 37,
   "metadata": {},
   "outputs": [
    {
     "data": {
      "text/plain": [
       "array([[[5923.,    0.],\n",
       "        [5923.,    0.],\n",
       "        [5923.,    0.],\n",
       "        ...,\n",
       "        [5923.,    0.],\n",
       "        [5923.,    0.],\n",
       "        [5923.,    0.]],\n",
       "\n",
       "       [[6742.,    0.],\n",
       "        [6742.,    0.],\n",
       "        [6742.,    0.],\n",
       "        ...,\n",
       "        [6742.,    0.],\n",
       "        [6742.,    0.],\n",
       "        [6742.,    0.]],\n",
       "\n",
       "       [[5958.,    0.],\n",
       "        [5958.,    0.],\n",
       "        [5958.,    0.],\n",
       "        ...,\n",
       "        [5958.,    0.],\n",
       "        [5958.,    0.],\n",
       "        [5958.,    0.]],\n",
       "\n",
       "       ...,\n",
       "\n",
       "       [[6265.,    0.],\n",
       "        [6265.,    0.],\n",
       "        [6265.,    0.],\n",
       "        ...,\n",
       "        [6265.,    0.],\n",
       "        [6265.,    0.],\n",
       "        [6265.,    0.]],\n",
       "\n",
       "       [[5851.,    0.],\n",
       "        [5851.,    0.],\n",
       "        [5851.,    0.],\n",
       "        ...,\n",
       "        [5851.,    0.],\n",
       "        [5851.,    0.],\n",
       "        [5851.,    0.]],\n",
       "\n",
       "       [[5949.,    0.],\n",
       "        [5949.,    0.],\n",
       "        [5949.,    0.],\n",
       "        ...,\n",
       "        [5949.,    0.],\n",
       "        [5949.,    0.],\n",
       "        [5949.,    0.]]])"
      ]
     },
     "execution_count": 37,
     "metadata": {},
     "output_type": "execute_result"
    }
   ],
   "source": [
    "pr_x_y"
   ]
  },
  {
   "cell_type": "code",
   "execution_count": 44,
   "metadata": {},
   "outputs": [],
   "source": [
    "for label in range(class_num):\n",
    "    for j in range(image_feature_num):\n",
    "        pr_x_y0 = pr_x_y[label][j][0]\n",
    "        pr_x_y1 = pr_x_y[label][j][1]\n",
    "        pr_x_y[label][j][0] = np.log((pr_x_y0 + lam) / (pr_x_y0 + pr_x_y1 + sj))\n",
    "        pr_x_y[label][j][1] = np.log((pr_x_y1 + lam) / (pr_x_y0 + pr_x_y1 + sj))"
   ]
  },
  {
   "cell_type": "code",
   "execution_count": 45,
   "metadata": {},
   "outputs": [
    {
     "data": {
      "text/plain": [
       "array([[[-1.68790616e-04, -8.68693597e+00],\n",
       "        [-1.68790616e-04, -8.68693597e+00],\n",
       "        [-1.68790616e-04, -8.68693597e+00],\n",
       "        ...,\n",
       "        [-1.68790616e-04, -8.68693597e+00],\n",
       "        [-1.68790616e-04, -8.68693597e+00],\n",
       "        [-1.68790616e-04, -8.68693597e+00]],\n",
       "\n",
       "       [[-1.48290947e-04, -8.81640850e+00],\n",
       "        [-1.48290947e-04, -8.81640850e+00],\n",
       "        [-1.48290947e-04, -8.81640850e+00],\n",
       "        ...,\n",
       "        [-1.48290947e-04, -8.81640850e+00],\n",
       "        [-1.48290947e-04, -8.81640850e+00],\n",
       "        [-1.48290947e-04, -8.81640850e+00]],\n",
       "\n",
       "       [[-1.67799312e-04, -8.69282576e+00],\n",
       "        [-1.67799312e-04, -8.69282576e+00],\n",
       "        [-1.67799312e-04, -8.69282576e+00],\n",
       "        ...,\n",
       "        [-1.67799312e-04, -8.69282576e+00],\n",
       "        [-1.67799312e-04, -8.69282576e+00],\n",
       "        [-1.67799312e-04, -8.69282576e+00]],\n",
       "\n",
       "       ...,\n",
       "\n",
       "       [[-1.59578713e-04, -8.74305305e+00],\n",
       "        [-1.59578713e-04, -8.74305305e+00],\n",
       "        [-1.59578713e-04, -8.74305305e+00],\n",
       "        ...,\n",
       "        [-1.59578713e-04, -8.74305305e+00],\n",
       "        [-1.59578713e-04, -8.74305305e+00],\n",
       "        [-1.59578713e-04, -8.74305305e+00]],\n",
       "\n",
       "       [[-1.70867151e-04, -8.67470963e+00],\n",
       "        [-1.70867151e-04, -8.67470963e+00],\n",
       "        [-1.70867151e-04, -8.67470963e+00],\n",
       "        ...,\n",
       "        [-1.70867151e-04, -8.67470963e+00],\n",
       "        [-1.70867151e-04, -8.67470963e+00],\n",
       "        [-1.70867151e-04, -8.67470963e+00]],\n",
       "\n",
       "       [[-1.68053105e-04, -8.69131455e+00],\n",
       "        [-1.68053105e-04, -8.69131455e+00],\n",
       "        [-1.68053105e-04, -8.69131455e+00],\n",
       "        ...,\n",
       "        [-1.68053105e-04, -8.69131455e+00],\n",
       "        [-1.68053105e-04, -8.69131455e+00],\n",
       "        [-1.68053105e-04, -8.69131455e+00]]])"
      ]
     },
     "execution_count": 45,
     "metadata": {},
     "output_type": "execute_result"
    }
   ],
   "source": [
    "pr_x_y"
   ]
  },
  {
   "cell_type": "code",
   "execution_count": null,
   "metadata": {},
   "outputs": [],
   "source": []
  }
 ],
 "metadata": {
  "kernelspec": {
   "display_name": "Python 3",
   "language": "python",
   "name": "python3"
  },
  "language_info": {
   "codemirror_mode": {
    "name": "ipython",
    "version": 3
   },
   "file_extension": ".py",
   "mimetype": "text/x-python",
   "name": "python",
   "nbconvert_exporter": "python",
   "pygments_lexer": "ipython3",
   "version": "3.6.5"
  }
 },
 "nbformat": 4,
 "nbformat_minor": 2
}
